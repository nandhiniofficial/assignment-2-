{
 "cells": [
  {
   "cell_type": "markdown",
   "id": "b88d2a8b",
   "metadata": {},
   "source": [
    "# EXPERT SYSTEM"
   ]
  },
  {
   "cell_type": "code",
   "execution_count": 1,
   "id": "4519344a",
   "metadata": {},
   "outputs": [
    {
     "name": "stdout",
     "output_type": "stream",
     "text": [
      "Welcome to the school admission form\n",
      "Please enter your name: vikneshraj D\n",
      "Please enter your age: 18\n",
      "Please enter the grade you are applying for: 10\n",
      "You are eligible for high school.\n"
     ]
    }
   ],
   "source": [
    "print(\"Welcome to the school admission form\")\n",
    "name = input(\"Please enter your name: \")\n",
    "age = int(input(\"Please enter your age: \"))\n",
    "grade = int(input(\"Please enter the grade you are applying for: \"))\n",
    "\n",
    "if age < 5:\n",
    "    print(\"You are not old enough to apply for school.\")\n",
    "elif age >= 5 and age <= 18:\n",
    "    if grade < 1 or grade > 12:\n",
    "        print(\"Invalid grade level.\")\n",
    "    elif grade >= 1 and grade <= 6:\n",
    "        print(\"You are eligible for elementary school.\")\n",
    "    elif grade >= 7 and grade <= 9:\n",
    "        print(\"You are eligible for middle school.\")\n",
    "    elif grade >= 10 and grade <= 12:\n",
    "        print(\"You are eligible for high school.\")\n",
    "else:\n",
    "    print(\"Invalid age.\")\n"
   ]
  },
  {
   "cell_type": "code",
   "execution_count": null,
   "id": "19417655",
   "metadata": {},
   "outputs": [],
   "source": []
  }
 ],
 "metadata": {
  "kernelspec": {
   "display_name": "Python 3 (ipykernel)",
   "language": "python",
   "name": "python3"
  },
  "language_info": {
   "codemirror_mode": {
    "name": "ipython",
    "version": 3
   },
   "file_extension": ".py",
   "mimetype": "text/x-python",
   "name": "python",
   "nbconvert_exporter": "python",
   "pygments_lexer": "ipython3",
   "version": "3.9.13"
  }
 },
 "nbformat": 4,
 "nbformat_minor": 5
}
